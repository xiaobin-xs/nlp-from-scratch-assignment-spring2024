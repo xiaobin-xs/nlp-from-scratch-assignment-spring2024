{
 "cells": [
  {
   "cell_type": "code",
   "execution_count": 1,
   "metadata": {},
   "outputs": [
    {
     "name": "stdout",
     "output_type": "stream",
     "text": [
      "Intel MKL WARNING: Support of Intel(R) Streaming SIMD Extensions 4.2 (Intel(R) SSE4.2) enabled only processors has been deprecated. Intel oneAPI Math Kernel Library 2025.0 will require Intel(R) Advanced Vector Extensions (Intel(R) AVX) instructions.\n",
      "Intel MKL WARNING: Support of Intel(R) Streaming SIMD Extensions 4.2 (Intel(R) SSE4.2) enabled only processors has been deprecated. Intel oneAPI Math Kernel Library 2025.0 will require Intel(R) Advanced Vector Extensions (Intel(R) AVX) instructions.\n"
     ]
    }
   ],
   "source": [
    "import pandas as pd\n",
    "import numpy as np\n",
    "import matplotlib.pyplot as plt\n"
   ]
  },
  {
   "cell_type": "code",
   "execution_count": 2,
   "metadata": {},
   "outputs": [],
   "source": [
    "df = pd.read_csv('qa-pair-lists.csv')"
   ]
  },
  {
   "cell_type": "code",
   "execution_count": 14,
   "metadata": {},
   "outputs": [],
   "source": [
    "df.loc[df['file'] == '2324-academic-calendar-list-view.txt', 'annotator'] = 'jialu'\n",
    "df.loc[df['file'] == 'commencement_schedule_data.txt', 'annotator'] = 'jialu'\n",
    "df.loc[df['file'] == 'spring_carnival.txt', 'annotator'] = 'jialu'\n",
    "df.loc[df['file'] == 'LTI_programs.txt', 'annotator'] = 'jialu'\n",
    "df.loc[df['file'] == 'Handbook-MSAII-2022-2023.txt', 'annotator'] = 'jialu'\n",
    "df.loc[df['file'] == 'MCDS Handbook 23-24 AY.txt', 'annotator'] = 'jialu'\n",
    "df.loc[df['file'] == 'MIIS Handbook_2023 - 2024.txt', 'annotator'] = 'jialu'\n",
    "df.loc[df['file'] == 'MLT Student Handbook 2023 - 2024.txt', 'annotator'] = 'jialu'\n",
    "\n"
   ]
  },
  {
   "cell_type": "code",
   "execution_count": 15,
   "metadata": {},
   "outputs": [],
   "source": [
    "df.loc[df['file'] == 'sched_layout_spring.txt', 'annotator'] = 'xiaobin'\n",
    "df.loc[df['file'] == 'athletics.txt', 'annotator'] = 'xiaobin'\n",
    "df.loc[df['file'] == 'lti_department_data.txt', 'annotator'] = 'xiaobin'\n",
    "\n"
   ]
  },
  {
   "cell_type": "code",
   "execution_count": 16,
   "metadata": {},
   "outputs": [],
   "source": [
    "#export csv\n",
    "df.to_csv('qa-pair-lists_w_annotator.csv', index=False)"
   ]
  },
  {
   "cell_type": "code",
   "execution_count": null,
   "metadata": {},
   "outputs": [],
   "source": []
  }
 ],
 "metadata": {
  "kernelspec": {
   "display_name": "py31",
   "language": "python",
   "name": "python3"
  },
  "language_info": {
   "codemirror_mode": {
    "name": "ipython",
    "version": 3
   },
   "file_extension": ".py",
   "mimetype": "text/x-python",
   "name": "python",
   "nbconvert_exporter": "python",
   "pygments_lexer": "ipython3",
   "version": "3.11.7"
  }
 },
 "nbformat": 4,
 "nbformat_minor": 2
}
